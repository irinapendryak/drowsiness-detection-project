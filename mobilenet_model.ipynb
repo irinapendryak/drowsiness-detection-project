{
 "cells": [
  {
   "cell_type": "code",
   "execution_count": 1,
   "id": "66c59873",
   "metadata": {
    "execution": {
     "iopub.execute_input": "2023-05-09T16:42:46.161985Z",
     "iopub.status.busy": "2023-05-09T16:42:46.161458Z",
     "iopub.status.idle": "2023-05-09T16:42:57.371646Z",
     "shell.execute_reply": "2023-05-09T16:42:57.370089Z"
    },
    "papermill": {
     "duration": 11.223429,
     "end_time": "2023-05-09T16:42:57.375153",
     "exception": false,
     "start_time": "2023-05-09T16:42:46.151724",
     "status": "completed"
    },
    "tags": []
   },
   "outputs": [],
   "source": [
    "import numpy as np \n",
    "import pandas as pd \n",
    "import os\n",
    "import tensorflow as tf\n",
    "\n",
    "from glob import glob\n",
    "from tqdm import tqdm\n",
    "\n",
    "import matplotlib.pyplot as plt\n",
    "import seaborn as sns\n",
    "from PIL import Image\n",
    "\n",
    "\n",
    "from tensorflow import keras\n",
    "from tensorflow.keras import layers\n",
    "from tensorflow.keras.models import Sequential, load_model\n",
    "from tensorflow.keras.layers import BatchNormalization, Dense, Dropout, Input, Flatten, Conv2D, MaxPooling2D\n",
    "from tensorflow.keras.callbacks import ModelCheckpoint, EarlyStopping\n",
    "from tensorflow.keras.preprocessing.image import ImageDataGenerator\n",
    "from tensorflow.keras.optimizers import Adam, RMSprop\n",
    "from tensorflow.keras.utils import to_categorical\n",
    "from tensorflow.keras import regularizers\n",
    "import matplotlib.image as mpimg\n",
    "from keras.preprocessing import image\n",
    "import datetime\n",
    "%matplotlib inline\n",
    "\n",
    "from sklearn.model_selection import train_test_split"
   ]
  },
  {
   "cell_type": "code",
   "execution_count": 2,
   "id": "6be8bb8a",
   "metadata": {
    "execution": {
     "iopub.execute_input": "2023-05-09T16:42:57.391584Z",
     "iopub.status.busy": "2023-05-09T16:42:57.390452Z",
     "iopub.status.idle": "2023-05-09T16:43:17.015564Z",
     "shell.execute_reply": "2023-05-09T16:43:17.014078Z"
    },
    "papermill": {
     "duration": 19.636866,
     "end_time": "2023-05-09T16:43:17.018867",
     "exception": false,
     "start_time": "2023-05-09T16:42:57.382001",
     "status": "completed"
    },
    "tags": []
   },
   "outputs": [
    {
     "name": "stderr",
     "output_type": "stream",
     "text": [
      "100%|██████████| 2000/2000 [00:09<00:00, 205.17it/s]\n",
      "100%|██████████| 2000/2000 [00:09<00:00, 207.89it/s]\n"
     ]
    }
   ],
   "source": [
    "#creating empty lists where we will match the class of image with its code (\"0\" for the closed eye, \"1\" for the open eye)\n",
    "X = []\n",
    "Y = []\n",
    "\n",
    "for i in tqdm(glob('/kaggle/input/mrl-dataset/train/Open_Eyes/*')):\n",
    "    temp = np.array(Image.open(i).resize((224,224)).convert(\"RGB\"))\n",
    "    X.append(temp)\n",
    "    Y.append(1)\n",
    "    \n",
    "for i in tqdm(glob('/kaggle/input/mrl-dataset/train/Closed_Eyes/*')):\n",
    "    temp = np.array(Image.open(i).resize((224,224)).convert(\"RGB\"))\n",
    "    X.append(temp)\n",
    "    Y.append(0)"
   ]
  },
  {
   "cell_type": "markdown",
   "id": "3b32e550",
   "metadata": {
    "papermill": {
     "duration": 0.017926,
     "end_time": "2023-05-09T16:43:17.055481",
     "exception": false,
     "start_time": "2023-05-09T16:43:17.037555",
     "status": "completed"
    },
    "tags": []
   },
   "source": [
    "# Exploratory data analysis"
   ]
  },
  {
   "cell_type": "code",
   "execution_count": 3,
   "id": "1cd2a753",
   "metadata": {
    "execution": {
     "iopub.execute_input": "2023-05-09T16:43:17.096092Z",
     "iopub.status.busy": "2023-05-09T16:43:17.094606Z",
     "iopub.status.idle": "2023-05-09T16:43:17.100973Z",
     "shell.execute_reply": "2023-05-09T16:43:17.099879Z"
    },
    "papermill": {
     "duration": 0.029033,
     "end_time": "2023-05-09T16:43:17.103628",
     "exception": false,
     "start_time": "2023-05-09T16:43:17.074595",
     "status": "completed"
    },
    "tags": []
   },
   "outputs": [],
   "source": [
    "Y_unique = list(set(Y))\n",
    "counts = [Y.count(value) for value in Y_unique]"
   ]
  },
  {
   "cell_type": "code",
   "execution_count": 4,
   "id": "3343b7d2",
   "metadata": {
    "execution": {
     "iopub.execute_input": "2023-05-09T16:43:17.144442Z",
     "iopub.status.busy": "2023-05-09T16:43:17.143991Z",
     "iopub.status.idle": "2023-05-09T16:43:17.153395Z",
     "shell.execute_reply": "2023-05-09T16:43:17.152034Z"
    },
    "papermill": {
     "duration": 0.032905,
     "end_time": "2023-05-09T16:43:17.156121",
     "exception": false,
     "start_time": "2023-05-09T16:43:17.123216",
     "status": "completed"
    },
    "tags": []
   },
   "outputs": [
    {
     "data": {
      "text/plain": [
       "[2000, 2000]"
      ]
     },
     "execution_count": 4,
     "metadata": {},
     "output_type": "execute_result"
    }
   ],
   "source": [
    "counts"
   ]
  },
  {
   "cell_type": "code",
   "execution_count": 5,
   "id": "ebb98beb",
   "metadata": {
    "execution": {
     "iopub.execute_input": "2023-05-09T16:43:17.196212Z",
     "iopub.status.busy": "2023-05-09T16:43:17.195679Z",
     "iopub.status.idle": "2023-05-09T16:43:17.447842Z",
     "shell.execute_reply": "2023-05-09T16:43:17.446260Z"
    },
    "papermill": {
     "duration": 0.276321,
     "end_time": "2023-05-09T16:43:17.450831",
     "exception": false,
     "start_time": "2023-05-09T16:43:17.174510",
     "status": "completed"
    },
    "tags": []
   },
   "outputs": [
    {
     "data": {
      "image/png": "[encoded data removed]",
      "text/plain": [
       "<Figure size 640x480 with 1 Axes>"
      ]
     },
     "metadata": {},
     "output_type": "display_data"
    }
   ],
   "source": [
    "#checking balance of classes\n",
    "Y_unique = list(set(Y))\n",
    "counts = [Y.count(value) for value in Y_unique]\n",
    "sns.set_style(\"whitegrid\")\n",
    "fig, ax = plt.subplots()\n",
    "sns.barplot(x=['Open eyes', 'Closed eyes'], y=counts, ax=ax, palette='crest')\n",
    "ax.set_title('Balance of Classes')\n",
    "ax.set_ylabel('Number of Images')\n",
    "plt.show()"
   ]
  },
  {
   "cell_type": "code",
   "execution_count": 6,
   "id": "d04e831c",
   "metadata": {
    "execution": {
     "iopub.execute_input": "2023-05-09T16:43:17.492116Z",
     "iopub.status.busy": "2023-05-09T16:43:17.490854Z",
     "iopub.status.idle": "2023-05-09T16:43:18.097795Z",
     "shell.execute_reply": "2023-05-09T16:43:18.096357Z"
    },
    "papermill": {
     "duration": 0.630352,
     "end_time": "2023-05-09T16:43:18.100567",
     "exception": false,
     "start_time": "2023-05-09T16:43:17.470215",
     "status": "completed"
    },
    "tags": []
   },
   "outputs": [
    {
     "name": "stdout",
     "output_type": "stream",
     "text": [
      "Image dimensions: (86, 86)\n"
     ]
    },
    {
     "data": {
      "text/plain": [
       "<matplotlib.image.AxesImage at 0x71ad648b5550>"
      ]
     },
     "execution_count": 6,
     "metadata": {},
     "output_type": "execute_result"
    },
    {
     "data": {
      "image/png": "[encoded data removed]",
      "text/plain": [
       "<Figure size 640x480 with 1 Axes>"
      ]
     },
     "metadata": {},
     "output_type": "display_data"
    }
   ],
   "source": [
    "# Read in the image\n",
    "image = mpimg.imread('/kaggle/input/mrl-dataset/train/Closed_Eyes/s0001_00001_0_0_0_0_0_01.png')\n",
    "\n",
    "# Print out the image dimensions\n",
    "print('Image dimensions:', image.shape)\n",
    "plt.imshow(image, cmap=\"gray\")"
   ]
  },
  {
   "cell_type": "markdown",
   "id": "fe2fb650",
   "metadata": {
    "papermill": {
     "duration": 0.019544,
     "end_time": "2023-05-09T16:43:18.141136",
     "exception": false,
     "start_time": "2023-05-09T16:43:18.121592",
     "status": "completed"
    },
    "tags": []
   },
   "source": [
    "The dataset is balanced. It has 2 classes with 2000 images in each of them."
   ]
  },
  {
   "cell_type": "markdown",
   "id": "aa2b7d5c",
   "metadata": {
    "papermill": {
     "duration": 0.020888,
     "end_time": "2023-05-09T16:43:18.182402",
     "exception": false,
     "start_time": "2023-05-09T16:43:18.161514",
     "status": "completed"
    },
    "tags": []
   },
   "source": [
    "# Building a MobileNet model"
   ]
  },
  {
   "cell_type": "code",
   "execution_count": 7,
   "id": "f5c8dcdd",
   "metadata": {
    "execution": {
     "iopub.execute_input": "2023-05-09T16:43:18.225094Z",
     "iopub.status.busy": "2023-05-09T16:43:18.223844Z",
     "iopub.status.idle": "2023-05-09T16:43:22.137075Z",
     "shell.execute_reply": "2023-05-09T16:43:22.135680Z"
    },
    "papermill": {
     "duration": 3.937781,
     "end_time": "2023-05-09T16:43:22.140302",
     "exception": false,
     "start_time": "2023-05-09T16:43:18.202521",
     "status": "completed"
    },
    "tags": []
   },
   "outputs": [],
   "source": [
    "X = np.array(X)\n",
    "X = X/255.0\n",
    "Y = np.array(Y)"
   ]
  },
  {
   "cell_type": "code",
   "execution_count": 8,
   "id": "79b38e75",
   "metadata": {
    "execution": {
     "iopub.execute_input": "2023-05-09T16:43:22.182003Z",
     "iopub.status.busy": "2023-05-09T16:43:22.181497Z",
     "iopub.status.idle": "2023-05-09T16:43:22.189488Z",
     "shell.execute_reply": "2023-05-09T16:43:22.188307Z"
    },
    "papermill": {
     "duration": 0.031871,
     "end_time": "2023-05-09T16:43:22.191904",
     "exception": false,
     "start_time": "2023-05-09T16:43:22.160033",
     "status": "completed"
    },
    "tags": []
   },
   "outputs": [
    {
     "data": {
      "text/plain": [
       "(4000, 224, 224, 3)"
      ]
     },
     "execution_count": 8,
     "metadata": {},
     "output_type": "execute_result"
    }
   ],
   "source": [
    "X.shape"
   ]
  },
  {
   "cell_type": "markdown",
   "id": "a23c7de8",
   "metadata": {
    "papermill": {
     "duration": 0.019222,
     "end_time": "2023-05-09T16:43:22.230833",
     "exception": false,
     "start_time": "2023-05-09T16:43:22.211611",
     "status": "completed"
    },
    "tags": []
   },
   "source": [
    "We will split the dataset into 3 parts: 70% for training the model, 15% - for the model validation and 15% for testing the model."
   ]
  },
  {
   "cell_type": "code",
   "execution_count": 9,
   "id": "cac90d7f",
   "metadata": {
    "execution": {
     "iopub.execute_input": "2023-05-09T16:43:22.272569Z",
     "iopub.status.busy": "2023-05-09T16:43:22.271337Z",
     "iopub.status.idle": "2023-05-09T16:43:26.574961Z",
     "shell.execute_reply": "2023-05-09T16:43:26.573528Z"
    },
    "papermill": {
     "duration": 4.328404,
     "end_time": "2023-05-09T16:43:26.578733",
     "exception": false,
     "start_time": "2023-05-09T16:43:22.250329",
     "status": "completed"
    },
    "tags": []
   },
   "outputs": [],
   "source": [
    "X_train, X_test1, Y_train, Y_test1 = train_test_split(X, Y, test_size=0.3, random_state=42)\n",
    "X_test, X_valid, Y_test, Y_valid = train_test_split(X_test1, Y_test1, test_size=0.5, random_state=42)"
   ]
  },
  {
   "cell_type": "code",
   "execution_count": 10,
   "id": "e3a8e9cb",
   "metadata": {
    "execution": {
     "iopub.execute_input": "2023-05-09T16:43:26.625190Z",
     "iopub.status.busy": "2023-05-09T16:43:26.624572Z",
     "iopub.status.idle": "2023-05-09T16:43:28.203449Z",
     "shell.execute_reply": "2023-05-09T16:43:28.201995Z"
    },
    "papermill": {
     "duration": 1.604336,
     "end_time": "2023-05-09T16:43:28.206577",
     "exception": false,
     "start_time": "2023-05-09T16:43:26.602241",
     "status": "completed"
    },
    "tags": []
   },
   "outputs": [
    {
     "name": "stdout",
     "output_type": "stream",
     "text": [
      "Downloading data from https://storage.googleapis.com/tensorflow/keras-applications/mobilenet/mobilenet_1_0_224_tf.h5\n",
      "17225924/17225924 [==============================] - 0s 0us/step\n"
     ]
    }
   ],
   "source": [
    "model_mb= tf.keras.applications.mobilenet.MobileNet()"
   ]
  },
  {
   "cell_type": "code",
   "execution_count": 11,
   "id": "c9fa8957",
   "metadata": {
    "execution": {
     "iopub.execute_input": "2023-05-09T16:43:28.249537Z",
     "iopub.status.busy": "2023-05-09T16:43:28.249071Z",
     "iopub.status.idle": "2023-05-09T16:43:28.545555Z",
     "shell.execute_reply": "2023-05-09T16:43:28.543900Z"
    },
    "papermill": {
     "duration": 0.328942,
     "end_time": "2023-05-09T16:43:28.556362",
     "exception": false,
     "start_time": "2023-05-09T16:43:28.227420",
     "status": "completed"
    },
    "tags": []
   },
   "outputs": [
    {
     "name": "stdout",
     "output_type": "stream",
     "text": [
      "Model: \"mobilenet_1.00_224\"\n",
      "_________________________________________________________________\n",
      " Layer (type)                Output Shape              Param #   \n",
      "=================================================================\n",
      " input_1 (InputLayer)        [(None, 224, 224, 3)]     0         \n",
      "                                                                 \n",
      " conv1 (Conv2D)              (None, 112, 112, 32)      864       \n",
      "                                                                 \n",
      " conv1_bn (BatchNormalizatio  (None, 112, 112, 32)     128       \n",
      " n)                                                              \n",
      "                                                                 \n",
      " conv1_relu (ReLU)           (None, 112, 112, 32)      0         \n",
      "                                                                 \n",
      " conv_dw_1 (DepthwiseConv2D)  (None, 112, 112, 32)     288       \n",
      "                                                                 \n",
      " conv_dw_1_bn (BatchNormaliz  (None, 112, 112, 32)     128       \n",
      " ation)                                                          \n",
      "                                                                 \n",
      " conv_dw_1_relu (ReLU)       (None, 112, 112, 32)      0         \n",
      "                                                                 \n",
      " conv_pw_1 (Conv2D)          (None, 112, 112, 64)      2048      \n",
      "                                                                 \n",
      " conv_pw_1_bn (BatchNormaliz  (None, 112, 112, 64)     256       \n",
      " ation)                                                          \n",
      "                                                                 \n",
      " conv_pw_1_relu (ReLU)       (None, 112, 112, 64)      0         \n",
      "                                                                 \n",
      " conv_pad_2 (ZeroPadding2D)  (None, 113, 113, 64)      0         \n",
      "                                                                 \n",
      " conv_dw_2 (DepthwiseConv2D)  (None, 56, 56, 64)       576       \n",
      "                                                                 \n",
      " conv_dw_2_bn (BatchNormaliz  (None, 56, 56, 64)       256       \n",
      " ation)                                                          \n",
      "                                                                 \n",
      " conv_dw_2_relu (ReLU)       (None, 56, 56, 64)        0         \n",
      "                                                                 \n",
      " conv_pw_2 (Conv2D)          (None, 56, 56, 128)       8192      \n",
      "                                                                 \n",
      " conv_pw_2_bn (BatchNormaliz  (None, 56, 56, 128)      512       \n",
      " ation)                                                          \n",
      "                                                                 \n",
      " conv_pw_2_relu (ReLU)       (None, 56, 56, 128)       0         \n",
      "                                                                 \n",
      " conv_dw_3 (DepthwiseConv2D)  (None, 56, 56, 128)      1152      \n",
      "                                                                 \n",
      " conv_dw_3_bn (BatchNormaliz  (None, 56, 56, 128)      512       \n",
      " ation)                                                          \n",
      "                                                                 \n",
      " conv_dw_3_relu (ReLU)       (None, 56, 56, 128)       0         \n",
      "                                                                 \n",
      " conv_pw_3 (Conv2D)          (None, 56, 56, 128)       16384     \n",
      "                                                                 \n",
      " conv_pw_3_bn (BatchNormaliz  (None, 56, 56, 128)      512       \n",
      " ation)                                                          \n",
      "                                                                 \n",
      " conv_pw_3_relu (ReLU)       (None, 56, 56, 128)       0         \n",
      "                                                                 \n",
      " conv_pad_4 (ZeroPadding2D)  (None, 57, 57, 128)       0         \n",
      "                                                                 \n",
      " conv_dw_4 (DepthwiseConv2D)  (None, 28, 28, 128)      1152      \n",
      "                                                                 \n",
      " conv_dw_4_bn (BatchNormaliz  (None, 28, 28, 128)      512       \n",
      " ation)                                                          \n",
      "                                                                 \n",
      " conv_dw_4_relu (ReLU)       (None, 28, 28, 128)       0         \n",
      "                                                                 \n",
      " conv_pw_4 (Conv2D)          (None, 28, 28, 256)       32768     \n",
      "                                                                 \n",
      " conv_pw_4_bn (BatchNormaliz  (None, 28, 28, 256)      1024      \n",
      " ation)                                                          \n",
      "                                                                 \n",
      " conv_pw_4_relu (ReLU)       (None, 28, 28, 256)       0         \n",
      "                                                                 \n",
      " conv_dw_5 (DepthwiseConv2D)  (None, 28, 28, 256)      2304      \n",
      "                                                                 \n",
      " conv_dw_5_bn (BatchNormaliz  (None, 28, 28, 256)      1024      \n",
      " ation)                                                          \n",
      "                                                                 \n",
      " conv_dw_5_relu (ReLU)       (None, 28, 28, 256)       0         \n",
      "                                                                 \n",
      " conv_pw_5 (Conv2D)          (None, 28, 28, 256)       65536     \n",
      "                                                                 \n",
      " conv_pw_5_bn (BatchNormaliz  (None, 28, 28, 256)      1024      \n",
      " ation)                                                          \n",
      "                                                                 \n",
      " conv_pw_5_relu (ReLU)       (None, 28, 28, 256)       0         \n",
      "                                                                 \n",
      " conv_pad_6 (ZeroPadding2D)  (None, 29, 29, 256)       0         \n",
      "                                                                 \n",
      " conv_dw_6 (DepthwiseConv2D)  (None, 14, 14, 256)      2304      \n",
      "                                                                 \n",
      " conv_dw_6_bn (BatchNormaliz  (None, 14, 14, 256)      1024      \n",
      " ation)                                                          \n",
      "                                                                 \n",
      " conv_dw_6_relu (ReLU)       (None, 14, 14, 256)       0         \n",
      "                                                                 \n",
      " conv_pw_6 (Conv2D)          (None, 14, 14, 512)       131072    \n",
      "                                                                 \n",
      " conv_pw_6_bn (BatchNormaliz  (None, 14, 14, 512)      2048      \n",
      " ation)                                                          \n",
      "                                                                 \n",
      " conv_pw_6_relu (ReLU)       (None, 14, 14, 512)       0         \n",
      "                                                                 \n",
      " conv_dw_7 (DepthwiseConv2D)  (None, 14, 14, 512)      4608      \n",
      "                                                                 \n",
      " conv_dw_7_bn (BatchNormaliz  (None, 14, 14, 512)      2048      \n",
      " ation)                                                          \n",
      "                                                                 \n",
      " conv_dw_7_relu (ReLU)       (None, 14, 14, 512)       0         \n",
      "                                                                 \n",
      " conv_pw_7 (Conv2D)          (None, 14, 14, 512)       262144    \n",
      "                                                                 \n",
      " conv_pw_7_bn (BatchNormaliz  (None, 14, 14, 512)      2048      \n",
      " ation)                                                          \n",
      "                                                                 \n",
      " conv_pw_7_relu (ReLU)       (None, 14, 14, 512)       0         \n",
      "                                                                 \n",
      " conv_dw_8 (DepthwiseConv2D)  (None, 14, 14, 512)      4608      \n",
      "                                                                 \n",
      " conv_dw_8_bn (BatchNormaliz  (None, 14, 14, 512)      2048      \n",
      " ation)                                                          \n",
      "                                                                 \n",
      " conv_dw_8_relu (ReLU)       (None, 14, 14, 512)       0         \n",
      "                                                                 \n",
      " conv_pw_8 (Conv2D)          (None, 14, 14, 512)       262144    \n",
      "                                                                 \n",
      " conv_pw_8_bn (BatchNormaliz  (None, 14, 14, 512)      2048      \n",
      " ation)                                                          \n",
      "                                                                 \n",
      " conv_pw_8_relu (ReLU)       (None, 14, 14, 512)       0         \n",
      "                                                                 \n",
      " conv_dw_9 (DepthwiseConv2D)  (None, 14, 14, 512)      4608      \n",
      "                                                                 \n",
      " conv_dw_9_bn (BatchNormaliz  (None, 14, 14, 512)      2048      \n",
      " ation)                                                          \n",
      "                                                                 \n",
      " conv_dw_9_relu (ReLU)       (None, 14, 14, 512)       0         \n",
      "                                                                 \n",
      " conv_pw_9 (Conv2D)          (None, 14, 14, 512)       262144    \n",
      "                                                                 \n",
      " conv_pw_9_bn (BatchNormaliz  (None, 14, 14, 512)      2048      \n",
      " ation)                                                          \n",
      "                                                                 \n",
      " conv_pw_9_relu (ReLU)       (None, 14, 14, 512)       0         \n",
      "                                                                 \n",
      " conv_dw_10 (DepthwiseConv2D  (None, 14, 14, 512)      4608      \n",
      " )                                                               \n",
      "                                                                 \n",
      " conv_dw_10_bn (BatchNormali  (None, 14, 14, 512)      2048      \n",
      " zation)                                                         \n",
      "                                                                 \n",
      " conv_dw_10_relu (ReLU)      (None, 14, 14, 512)       0         \n",
      "                                                                 \n",
      " conv_pw_10 (Conv2D)         (None, 14, 14, 512)       262144    \n",
      "                                                                 \n",
      " conv_pw_10_bn (BatchNormali  (None, 14, 14, 512)      2048      \n",
      " zation)                                                         \n",
      "                                                                 \n",
      " conv_pw_10_relu (ReLU)      (None, 14, 14, 512)       0         \n",
      "                                                                 \n",
      " conv_dw_11 (DepthwiseConv2D  (None, 14, 14, 512)      4608      \n",
      " )                                                               \n",
      "                                                                 \n",
      " conv_dw_11_bn (BatchNormali  (None, 14, 14, 512)      2048      \n",
      " zation)                                                         \n",
      "                                                                 \n",
      " conv_dw_11_relu (ReLU)      (None, 14, 14, 512)       0         \n",
      "                                                                 \n",
      " conv_pw_11 (Conv2D)         (None, 14, 14, 512)       262144    \n",
      "                                                                 \n",
      " conv_pw_11_bn (BatchNormali  (None, 14, 14, 512)      2048      \n",
      " zation)                                                         \n",
      "                                                                 \n",
      " conv_pw_11_relu (ReLU)      (None, 14, 14, 512)       0         \n",
      "                                                                 \n",
      " conv_pad_12 (ZeroPadding2D)  (None, 15, 15, 512)      0         \n",
      "                                                                 \n",
      " conv_dw_12 (DepthwiseConv2D  (None, 7, 7, 512)        4608      \n",
      " )                                                               \n",
      "                                                                 \n",
      " conv_dw_12_bn (BatchNormali  (None, 7, 7, 512)        2048      \n",
      " zation)                                                         \n",
      "                                                                 \n",
      " conv_dw_12_relu (ReLU)      (None, 7, 7, 512)         0         \n",
      "                                                                 \n",
      " conv_pw_12 (Conv2D)         (None, 7, 7, 1024)        524288    \n",
      "                                                                 \n",
      " conv_pw_12_bn (BatchNormali  (None, 7, 7, 1024)       4096      \n",
      " zation)                                                         \n",
      "                                                                 \n",
      " conv_pw_12_relu (ReLU)      (None, 7, 7, 1024)        0         \n",
      "                                                                 \n",
      " conv_dw_13 (DepthwiseConv2D  (None, 7, 7, 1024)       9216      \n",
      " )                                                               \n",
      "                                                                 \n",
      " conv_dw_13_bn (BatchNormali  (None, 7, 7, 1024)       4096      \n",
      " zation)                                                         \n",
      "                                                                 \n",
      " conv_dw_13_relu (ReLU)      (None, 7, 7, 1024)        0         \n",
      "                                                                 \n",
      " conv_pw_13 (Conv2D)         (None, 7, 7, 1024)        1048576   \n",
      "                                                                 \n",
      " conv_pw_13_bn (BatchNormali  (None, 7, 7, 1024)       4096      \n",
      " zation)                                                         \n",
      "                                                                 \n",
      " conv_pw_13_relu (ReLU)      (None, 7, 7, 1024)        0         \n",
      "                                                                 \n",
      " global_average_pooling2d (G  (None, 1, 1, 1024)       0         \n",
      " lobalAveragePooling2D)                                          \n",
      "                                                                 \n",
      " dropout (Dropout)           (None, 1, 1, 1024)        0         \n",
      "                                                                 \n",
      " conv_preds (Conv2D)         (None, 1, 1, 1000)        1025000   \n",
      "                                                                 \n",
      " reshape_2 (Reshape)         (None, 1000)              0         \n",
      "                                                                 \n",
      " predictions (Activation)    (None, 1000)              0         \n",
      "                                                                 \n",
      "=================================================================\n",
      "Total params: 4,253,864\n",
      "Trainable params: 4,231,976\n",
      "Non-trainable params: 21,888\n",
      "_________________________________________________________________\n"
     ]
    }
   ],
   "source": [
    "model_mb.summary()"
   ]
  },
  {
   "cell_type": "code",
   "execution_count": 12,
   "id": "f97053b5",
   "metadata": {
    "execution": {
     "iopub.execute_input": "2023-05-09T16:43:28.626961Z",
     "iopub.status.busy": "2023-05-09T16:43:28.626007Z",
     "iopub.status.idle": "2023-05-09T16:43:28.633329Z",
     "shell.execute_reply": "2023-05-09T16:43:28.631786Z"
    },
    "papermill": {
     "duration": 0.045526,
     "end_time": "2023-05-09T16:43:28.636048",
     "exception": false,
     "start_time": "2023-05-09T16:43:28.590522",
     "status": "completed"
    },
    "tags": []
   },
   "outputs": [],
   "source": [
    "base_input = model_mb.layers[0].input\n",
    "base_output = model_mb.layers[-4].output"
   ]
  },
  {
   "cell_type": "code",
   "execution_count": 13,
   "id": "d194d2e4",
   "metadata": {
    "execution": {
     "iopub.execute_input": "2023-05-09T16:43:28.706931Z",
     "iopub.status.busy": "2023-05-09T16:43:28.706022Z",
     "iopub.status.idle": "2023-05-09T16:43:28.741019Z",
     "shell.execute_reply": "2023-05-09T16:43:28.739578Z"
    },
    "papermill": {
     "duration": 0.073958,
     "end_time": "2023-05-09T16:43:28.744119",
     "exception": false,
     "start_time": "2023-05-09T16:43:28.670161",
     "status": "completed"
    },
    "tags": []
   },
   "outputs": [],
   "source": [
    "Flat_layer = layers.Flatten()(base_output)\n",
    "final_output = layers.Dense(1)(Flat_layer)\n",
    "final_output = layers.Activation('sigmoid')(final_output)"
   ]
  },
  {
   "cell_type": "code",
   "execution_count": 14,
   "id": "5de4cb61",
   "metadata": {
    "execution": {
     "iopub.execute_input": "2023-05-09T16:43:28.814152Z",
     "iopub.status.busy": "2023-05-09T16:43:28.813646Z",
     "iopub.status.idle": "2023-05-09T16:43:28.830400Z",
     "shell.execute_reply": "2023-05-09T16:43:28.828858Z"
    },
    "papermill": {
     "duration": 0.055565,
     "end_time": "2023-05-09T16:43:28.833451",
     "exception": false,
     "start_time": "2023-05-09T16:43:28.777886",
     "status": "completed"
    },
    "tags": []
   },
   "outputs": [],
   "source": [
    "new_model = keras.Model(inputs = base_input, outputs = final_output)"
   ]
  },
  {
   "cell_type": "code",
   "execution_count": 15,
   "id": "85ca7d21",
   "metadata": {
    "execution": {
     "iopub.execute_input": "2023-05-09T16:43:28.904241Z",
     "iopub.status.busy": "2023-05-09T16:43:28.903757Z",
     "iopub.status.idle": "2023-05-09T16:43:29.213674Z",
     "shell.execute_reply": "2023-05-09T16:43:29.211884Z"
    },
    "papermill": {
     "duration": 0.349572,
     "end_time": "2023-05-09T16:43:29.217203",
     "exception": false,
     "start_time": "2023-05-09T16:43:28.867631",
     "status": "completed"
    },
    "tags": []
   },
   "outputs": [
    {
     "name": "stdout",
     "output_type": "stream",
     "text": [
      "Model: \"model\"\n",
      "_________________________________________________________________\n",
      " Layer (type)                Output Shape              Param #   \n",
      "=================================================================\n",
      " input_1 (InputLayer)        [(None, 224, 224, 3)]     0         \n",
      "                                                                 \n",
      " conv1 (Conv2D)              (None, 112, 112, 32)      864       \n",
      "                                                                 \n",
      " conv1_bn (BatchNormalizatio  (None, 112, 112, 32)     128       \n",
      " n)                                                              \n",
      "                                                                 \n",
      " conv1_relu (ReLU)           (None, 112, 112, 32)      0         \n",
      "                                                                 \n",
      " conv_dw_1 (DepthwiseConv2D)  (None, 112, 112, 32)     288       \n",
      "                                                                 \n",
      " conv_dw_1_bn (BatchNormaliz  (None, 112, 112, 32)     128       \n",
      " ation)                                                          \n",
      "                                                                 \n",
      " conv_dw_1_relu (ReLU)       (None, 112, 112, 32)      0         \n",
      "                                                                 \n",
      " conv_pw_1 (Conv2D)          (None, 112, 112, 64)      2048      \n",
      "                                                                 \n",
      " conv_pw_1_bn (BatchNormaliz  (None, 112, 112, 64)     256       \n",
      " ation)                                                          \n",
      "                                                                 \n",
      " conv_pw_1_relu (ReLU)       (None, 112, 112, 64)      0         \n",
      "                                                                 \n",
      " conv_pad_2 (ZeroPadding2D)  (None, 113, 113, 64)      0         \n",
      "                                                                 \n",
      " conv_dw_2 (DepthwiseConv2D)  (None, 56, 56, 64)       576       \n",
      "                                                                 \n",
      " conv_dw_2_bn (BatchNormaliz  (None, 56, 56, 64)       256       \n",
      " ation)                                                          \n",
      "                                                                 \n",
      " conv_dw_2_relu (ReLU)       (None, 56, 56, 64)        0         \n",
      "                                                                 \n",
      " conv_pw_2 (Conv2D)          (None, 56, 56, 128)       8192      \n",
      "                                                                 \n",
      " conv_pw_2_bn (BatchNormaliz  (None, 56, 56, 128)      512       \n",
      " ation)                                                          \n",
      "                                                                 \n",
      " conv_pw_2_relu (ReLU)       (None, 56, 56, 128)       0         \n",
      "                                                                 \n",
      " conv_dw_3 (DepthwiseConv2D)  (None, 56, 56, 128)      1152      \n",
      "                                                                 \n",
      " conv_dw_3_bn (BatchNormaliz  (None, 56, 56, 128)      512       \n",
      " ation)                                                          \n",
      "                                                                 \n",
      " conv_dw_3_relu (ReLU)       (None, 56, 56, 128)       0         \n",
      "                                                                 \n",
      " conv_pw_3 (Conv2D)          (None, 56, 56, 128)       16384     \n",
      "                                                                 \n",
      " conv_pw_3_bn (BatchNormaliz  (None, 56, 56, 128)      512       \n",
      " ation)                                                          \n",
      "                                                                 \n",
      " conv_pw_3_relu (ReLU)       (None, 56, 56, 128)       0         \n",
      "                                                                 \n",
      " conv_pad_4 (ZeroPadding2D)  (None, 57, 57, 128)       0         \n",
      "                                                                 \n",
      " conv_dw_4 (DepthwiseConv2D)  (None, 28, 28, 128)      1152      \n",
      "                                                                 \n",
      " conv_dw_4_bn (BatchNormaliz  (None, 28, 28, 128)      512       \n",
      " ation)                                                          \n",
      "                                                                 \n",
      " conv_dw_4_relu (ReLU)       (None, 28, 28, 128)       0         \n",
      "                                                                 \n",
      " conv_pw_4 (Conv2D)          (None, 28, 28, 256)       32768     \n",
      "                                                                 \n",
      " conv_pw_4_bn (BatchNormaliz  (None, 28, 28, 256)      1024      \n",
      " ation)                                                          \n",
      "                                                                 \n",
      " conv_pw_4_relu (ReLU)       (None, 28, 28, 256)       0         \n",
      "                                                                 \n",
      " conv_dw_5 (DepthwiseConv2D)  (None, 28, 28, 256)      2304      \n",
      "                                                                 \n",
      " conv_dw_5_bn (BatchNormaliz  (None, 28, 28, 256)      1024      \n",
      " ation)                                                          \n",
      "                                                                 \n",
      " conv_dw_5_relu (ReLU)       (None, 28, 28, 256)       0         \n",
      "                                                                 \n",
      " conv_pw_5 (Conv2D)          (None, 28, 28, 256)       65536     \n",
      "                                                                 \n",
      " conv_pw_5_bn (BatchNormaliz  (None, 28, 28, 256)      1024      \n",
      " ation)                                                          \n",
      "                                                                 \n",
      " conv_pw_5_relu (ReLU)       (None, 28, 28, 256)       0         \n",
      "                                                                 \n",
      " conv_pad_6 (ZeroPadding2D)  (None, 29, 29, 256)       0         \n",
      "                                                                 \n",
      " conv_dw_6 (DepthwiseConv2D)  (None, 14, 14, 256)      2304      \n",
      "                                                                 \n",
      " conv_dw_6_bn (BatchNormaliz  (None, 14, 14, 256)      1024      \n",
      " ation)                                                          \n",
      "                                                                 \n",
      " conv_dw_6_relu (ReLU)       (None, 14, 14, 256)       0         \n",
      "                                                                 \n",
      " conv_pw_6 (Conv2D)          (None, 14, 14, 512)       131072    \n",
      "                                                                 \n",
      " conv_pw_6_bn (BatchNormaliz  (None, 14, 14, 512)      2048      \n",
      " ation)                                                          \n",
      "                                                                 \n",
      " conv_pw_6_relu (ReLU)       (None, 14, 14, 512)       0         \n",
      "                                                                 \n",
      " conv_dw_7 (DepthwiseConv2D)  (None, 14, 14, 512)      4608      \n",
      "                                                                 \n",
      " conv_dw_7_bn (BatchNormaliz  (None, 14, 14, 512)      2048      \n",
      " ation)                                                          \n",
      "                                                                 \n",
      " conv_dw_7_relu (ReLU)       (None, 14, 14, 512)       0         \n",
      "                                                                 \n",
      " conv_pw_7 (Conv2D)          (None, 14, 14, 512)       262144    \n",
      "                                                                 \n",
      " conv_pw_7_bn (BatchNormaliz  (None, 14, 14, 512)      2048      \n",
      " ation)                                                          \n",
      "                                                                 \n",
      " conv_pw_7_relu (ReLU)       (None, 14, 14, 512)       0         \n",
      "                                                                 \n",
      " conv_dw_8 (DepthwiseConv2D)  (None, 14, 14, 512)      4608      \n",
      "                                                                 \n",
      " conv_dw_8_bn (BatchNormaliz  (None, 14, 14, 512)      2048      \n",
      " ation)                                                          \n",
      "                                                                 \n",
      " conv_dw_8_relu (ReLU)       (None, 14, 14, 512)       0         \n",
      "                                                                 \n",
      " conv_pw_8 (Conv2D)          (None, 14, 14, 512)       262144    \n",
      "                                                                 \n",
      " conv_pw_8_bn (BatchNormaliz  (None, 14, 14, 512)      2048      \n",
      " ation)                                                          \n",
      "                                                                 \n",
      " conv_pw_8_relu (ReLU)       (None, 14, 14, 512)       0         \n",
      "                                                                 \n",
      " conv_dw_9 (DepthwiseConv2D)  (None, 14, 14, 512)      4608      \n",
      "                                                                 \n",
      " conv_dw_9_bn (BatchNormaliz  (None, 14, 14, 512)      2048      \n",
      " ation)                                                          \n",
      "                                                                 \n",
      " conv_dw_9_relu (ReLU)       (None, 14, 14, 512)       0         \n",
      "                                                                 \n",
      " conv_pw_9 (Conv2D)          (None, 14, 14, 512)       262144    \n",
      "                                                                 \n",
      " conv_pw_9_bn (BatchNormaliz  (None, 14, 14, 512)      2048      \n",
      " ation)                                                          \n",
      "                                                                 \n",
      " conv_pw_9_relu (ReLU)       (None, 14, 14, 512)       0         \n",
      "                                                                 \n",
      " conv_dw_10 (DepthwiseConv2D  (None, 14, 14, 512)      4608      \n",
      " )                                                               \n",
      "                                                                 \n",
      " conv_dw_10_bn (BatchNormali  (None, 14, 14, 512)      2048      \n",
      " zation)                                                         \n",
      "                                                                 \n",
      " conv_dw_10_relu (ReLU)      (None, 14, 14, 512)       0         \n",
      "                                                                 \n",
      " conv_pw_10 (Conv2D)         (None, 14, 14, 512)       262144    \n",
      "                                                                 \n",
      " conv_pw_10_bn (BatchNormali  (None, 14, 14, 512)      2048      \n",
      " zation)                                                         \n",
      "                                                                 \n",
      " conv_pw_10_relu (ReLU)      (None, 14, 14, 512)       0         \n",
      "                                                                 \n",
      " conv_dw_11 (DepthwiseConv2D  (None, 14, 14, 512)      4608      \n",
      " )                                                               \n",
      "                                                                 \n",
      " conv_dw_11_bn (BatchNormali  (None, 14, 14, 512)      2048      \n",
      " zation)                                                         \n",
      "                                                                 \n",
      " conv_dw_11_relu (ReLU)      (None, 14, 14, 512)       0         \n",
      "                                                                 \n",
      " conv_pw_11 (Conv2D)         (None, 14, 14, 512)       262144    \n",
      "                                                                 \n",
      " conv_pw_11_bn (BatchNormali  (None, 14, 14, 512)      2048      \n",
      " zation)                                                         \n",
      "                                                                 \n",
      " conv_pw_11_relu (ReLU)      (None, 14, 14, 512)       0         \n",
      "                                                                 \n",
      " conv_pad_12 (ZeroPadding2D)  (None, 15, 15, 512)      0         \n",
      "                                                                 \n",
      " conv_dw_12 (DepthwiseConv2D  (None, 7, 7, 512)        4608      \n",
      " )                                                               \n",
      "                                                                 \n",
      " conv_dw_12_bn (BatchNormali  (None, 7, 7, 512)        2048      \n",
      " zation)                                                         \n",
      "                                                                 \n",
      " conv_dw_12_relu (ReLU)      (None, 7, 7, 512)         0         \n",
      "                                                                 \n",
      " conv_pw_12 (Conv2D)         (None, 7, 7, 1024)        524288    \n",
      "                                                                 \n",
      " conv_pw_12_bn (BatchNormali  (None, 7, 7, 1024)       4096      \n",
      " zation)                                                         \n",
      "                                                                 \n",
      " conv_pw_12_relu (ReLU)      (None, 7, 7, 1024)        0         \n",
      "                                                                 \n",
      " conv_dw_13 (DepthwiseConv2D  (None, 7, 7, 1024)       9216      \n",
      " )                                                               \n",
      "                                                                 \n",
      " conv_dw_13_bn (BatchNormali  (None, 7, 7, 1024)       4096      \n",
      " zation)                                                         \n",
      "                                                                 \n",
      " conv_dw_13_relu (ReLU)      (None, 7, 7, 1024)        0         \n",
      "                                                                 \n",
      " conv_pw_13 (Conv2D)         (None, 7, 7, 1024)        1048576   \n",
      "                                                                 \n",
      " conv_pw_13_bn (BatchNormali  (None, 7, 7, 1024)       4096      \n",
      " zation)                                                         \n",
      "                                                                 \n",
      " conv_pw_13_relu (ReLU)      (None, 7, 7, 1024)        0         \n",
      "                                                                 \n",
      " global_average_pooling2d (G  (None, 1, 1, 1024)       0         \n",
      " lobalAveragePooling2D)                                          \n",
      "                                                                 \n",
      " dropout (Dropout)           (None, 1, 1, 1024)        0         \n",
      "                                                                 \n",
      " flatten (Flatten)           (None, 1024)              0         \n",
      "                                                                 \n",
      " dense (Dense)               (None, 1)                 1025      \n",
      "                                                                 \n",
      " activation (Activation)     (None, 1)                 0         \n",
      "                                                                 \n",
      "=================================================================\n",
      "Total params: 3,229,889\n",
      "Trainable params: 3,208,001\n",
      "Non-trainable params: 21,888\n",
      "_________________________________________________________________\n"
     ]
    }
   ],
   "source": [
    "new_model.summary()"
   ]
  },
  {
   "cell_type": "code",
   "execution_count": 16,
   "id": "72905f26",
   "metadata": {
    "execution": {
     "iopub.execute_input": "2023-05-09T16:43:29.315461Z",
     "iopub.status.busy": "2023-05-09T16:43:29.315025Z",
     "iopub.status.idle": "2023-05-09T16:43:29.343130Z",
     "shell.execute_reply": "2023-05-09T16:43:29.341590Z"
    },
    "papermill": {
     "duration": 0.080753,
     "end_time": "2023-05-09T16:43:29.346465",
     "exception": false,
     "start_time": "2023-05-09T16:43:29.265712",
     "status": "completed"
    },
    "tags": []
   },
   "outputs": [],
   "source": [
    "new_model.compile(loss=\"binary_crossentropy\", optimizer = \"adam\", metrics = [\"accuracy\"])"
   ]
  },
  {
   "cell_type": "code",
   "execution_count": 17,
   "id": "993e43d4",
   "metadata": {
    "execution": {
     "iopub.execute_input": "2023-05-09T16:43:29.446610Z",
     "iopub.status.busy": "2023-05-09T16:43:29.445148Z",
     "iopub.status.idle": "2023-05-09T16:43:29.451768Z",
     "shell.execute_reply": "2023-05-09T16:43:29.450386Z"
    },
    "papermill": {
     "duration": 0.058661,
     "end_time": "2023-05-09T16:43:29.454580",
     "exception": false,
     "start_time": "2023-05-09T16:43:29.395919",
     "status": "completed"
    },
    "tags": []
   },
   "outputs": [],
   "source": [
    "early_stopping = EarlyStopping(monitor=\"val_loss\", patience=3)"
   ]
  },
  {
   "cell_type": "code",
   "execution_count": 18,
   "id": "111e049e",
   "metadata": {
    "execution": {
     "iopub.execute_input": "2023-05-09T16:43:29.552957Z",
     "iopub.status.busy": "2023-05-09T16:43:29.551495Z",
     "iopub.status.idle": "2023-05-09T16:43:29.558602Z",
     "shell.execute_reply": "2023-05-09T16:43:29.557275Z"
    },
    "papermill": {
     "duration": 0.059718,
     "end_time": "2023-05-09T16:43:29.561612",
     "exception": false,
     "start_time": "2023-05-09T16:43:29.501894",
     "status": "completed"
    },
    "tags": []
   },
   "outputs": [],
   "source": [
    "chckpntng_pth = \"best_checkpoint\"\n",
    "chckpntng = tf.keras.callbacks.ModelCheckpoint(\n",
    "    filepath = chckpntng_pth,\n",
    "    save_weights_only=False,\n",
    "    monitor='val_loss',\n",
    "    mode='min',\n",
    "    save_best_only=True,\n",
    "    verbose =1)"
   ]
  },
  {
   "cell_type": "code",
   "execution_count": 19,
   "id": "c3f818cc",
   "metadata": {
    "execution": {
     "iopub.execute_input": "2023-05-09T16:43:29.660621Z",
     "iopub.status.busy": "2023-05-09T16:43:29.660145Z",
     "iopub.status.idle": "2023-05-09T17:12:25.369287Z",
     "shell.execute_reply": "2023-05-09T17:12:25.367879Z"
    },
    "papermill": {
     "duration": 1735.838526,
     "end_time": "2023-05-09T17:12:25.447940",
     "exception": false,
     "start_time": "2023-05-09T16:43:29.609414",
     "status": "completed"
    },
    "tags": []
   },
   "outputs": [
    {
     "name": "stdout",
     "output_type": "stream",
     "text": [
      "Epoch 1/5\n",
      "88/88 [==============================] - ETA: 0s - loss: 0.0202 - accuracy: 0.9900\n",
      "Epoch 1: val_loss improved from inf to 0.00435, saving model to best_checkpoint\n",
      "88/88 [==============================] - 373s 4s/step - loss: 0.0202 - accuracy: 0.9900 - val_loss: 0.0043 - val_accuracy: 0.9950\n",
      "Epoch 2/5\n",
      "88/88 [==============================] - ETA: 0s - loss: 0.0241 - accuracy: 0.9954\n",
      "Epoch 2: val_loss improved from 0.00435 to 0.00000, saving model to best_checkpoint\n",
      "88/88 [==============================] - 350s 4s/step - loss: 0.0241 - accuracy: 0.9954 - val_loss: 6.5647e-07 - val_accuracy: 1.0000\n",
      "Epoch 3/5\n",
      "88/88 [==============================] - ETA: 0s - loss: 2.6871e-04 - accuracy: 1.0000\n",
      "Epoch 3: val_loss did not improve from 0.00000\n",
      "88/88 [==============================] - 337s 4s/step - loss: 2.6871e-04 - accuracy: 1.0000 - val_loss: 0.0048 - val_accuracy: 0.9967\n",
      "Epoch 4/5\n",
      "88/88 [==============================] - ETA: 0s - loss: 1.1054e-04 - accuracy: 1.0000\n",
      "Epoch 4: val_loss did not improve from 0.00000\n",
      "88/88 [==============================] - 340s 4s/step - loss: 1.1054e-04 - accuracy: 1.0000 - val_loss: 1.0102e-05 - val_accuracy: 1.0000\n",
      "Epoch 5/5\n",
      "88/88 [==============================] - ETA: 0s - loss: 3.0949e-05 - accuracy: 1.0000\n",
      "Epoch 5: val_loss did not improve from 0.00000\n",
      "88/88 [==============================] - 331s 4s/step - loss: 3.0949e-05 - accuracy: 1.0000 - val_loss: 1.1866e-06 - val_accuracy: 1.0000\n"
     ]
    }
   ],
   "source": [
    "history_ds = new_model.fit(X_train, Y_train, validation_data=[X_valid, Y_valid],  epochs=5, callbacks=[early_stopping, chckpntng])"
   ]
  },
  {
   "cell_type": "code",
   "execution_count": 20,
   "id": "2a8ef9dc",
   "metadata": {
    "execution": {
     "iopub.execute_input": "2023-05-09T17:12:25.609290Z",
     "iopub.status.busy": "2023-05-09T17:12:25.608046Z",
     "iopub.status.idle": "2023-05-09T17:13:16.828988Z",
     "shell.execute_reply": "2023-05-09T17:13:16.827907Z"
    },
    "papermill": {
     "duration": 51.303155,
     "end_time": "2023-05-09T17:13:16.831972",
     "exception": false,
     "start_time": "2023-05-09T17:12:25.528817",
     "status": "completed"
    },
    "tags": []
   },
   "outputs": [
    {
     "name": "stdout",
     "output_type": "stream",
     "text": [
      "19/19 [==============================] - 11s 593ms/step - loss: 2.1348e-06 - accuracy: 1.0000\n"
     ]
    },
    {
     "data": {
      "text/plain": [
       "[2.1347866550058825e-06, 1.0]"
      ]
     },
     "execution_count": 20,
     "metadata": {},
     "output_type": "execute_result"
    }
   ],
   "source": [
    "new_model.evaluate(X_test, Y_test)"
   ]
  },
  {
   "cell_type": "code",
   "execution_count": 21,
   "id": "0c72cb69",
   "metadata": {
    "execution": {
     "iopub.execute_input": "2023-05-09T17:13:16.994739Z",
     "iopub.status.busy": "2023-05-09T17:13:16.993761Z",
     "iopub.status.idle": "2023-05-09T17:13:31.524587Z",
     "shell.execute_reply": "2023-05-09T17:13:31.523351Z"
    },
    "papermill": {
     "duration": 14.617294,
     "end_time": "2023-05-09T17:13:31.528555",
     "exception": false,
     "start_time": "2023-05-09T17:13:16.911261",
     "status": "completed"
    },
    "tags": []
   },
   "outputs": [],
   "source": [
    "new_model.save('/kaggle/working/MobileNet_model',save_format = 'tf')"
   ]
  },
  {
   "cell_type": "code",
   "execution_count": null,
   "id": "d56e2cb4",
   "metadata": {
    "papermill": {
     "duration": 0.079531,
     "end_time": "2023-05-09T17:13:31.688602",
     "exception": false,
     "start_time": "2023-05-09T17:13:31.609071",
     "status": "completed"
    },
    "tags": []
   },
   "outputs": [],
   "source": []
  }
 ],
 "metadata": {
  "kernelspec": {
   "display_name": "Python 3",
   "language": "python",
   "name": "python3"
  },
  "language_info": {
   "codemirror_mode": {
    "name": "ipython",
    "version": 3
   },
   "file_extension": ".py",
   "mimetype": "text/x-python",
   "name": "python",
   "nbconvert_exporter": "python",
   "pygments_lexer": "ipython3",
   "version": "3.7.12"
  },
  "papermill": {
   "default_parameters": {},
   "duration": 1861.976662,
   "end_time": "2023-05-09T17:13:35.150220",
   "environment_variables": {},
   "exception": null,
   "input_path": "__notebook__.ipynb",
   "output_path": "__notebook__.ipynb",
   "parameters": {},
   "start_time": "2023-05-09T16:42:33.173558",
   "version": "2.4.0"
  }
 },
 "nbformat": 4,
 "nbformat_minor": 5
}
